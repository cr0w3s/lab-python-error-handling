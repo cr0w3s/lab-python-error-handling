{
 "cells": [
  {
   "cell_type": "markdown",
   "id": "25d7736c-ba17-4aff-b6bb-66eba20fbf4e",
   "metadata": {},
   "source": [
    "# Lab | Error Handling"
   ]
  },
  {
   "cell_type": "markdown",
   "id": "bc99b386-7508-47a0-bcdb-d969deaf6c8b",
   "metadata": {},
   "source": [
    "## Exercise: Error Handling for Managing Customer Orders\n",
    "\n",
    "The implementation of your code for managing customer orders assumes that the user will always enter a valid input. \n",
    "\n",
    "For example, we could modify the `initialize_inventory` function to include error handling.\n",
    "   - If the user enters an invalid quantity (e.g., a negative value or a non-numeric value), display an error message and ask them to re-enter the quantity for that product.\n",
    "   - Use a try-except block to handle the error and continue prompting the user until a valid quantity is entered.\n",
    "\n",
    "```python\n",
    "# Step 1: Define the function for initializing the inventory with error handling\n",
    "def initialize_inventory(products):\n",
    "    inventory = {}\n",
    "    for product in products:\n",
    "        valid_quantity = False\n",
    "        while not valid_quantity:\n",
    "            try:\n",
    "                quantity = int(input(f\"Enter the quantity of {product}s available: \"))\n",
    "                if quantity < 0:\n",
    "                    raise ValueError(\"Invalid quantity! Please enter a non-negative value.\")\n",
    "                valid_quantity = True\n",
    "            except ValueError as error:\n",
    "                print(f\"Error: {error}\")\n",
    "        inventory[product] = quantity\n",
    "    return inventory\n",
    "\n",
    "# Or, in another way:\n",
    "\n",
    "def initialize_inventory(products):\n",
    "    inventory = {}\n",
    "    for product in products:\n",
    "        valid_input = False\n",
    "        while not valid_input:\n",
    "            try:\n",
    "                quantity = int(input(f\"Enter the quantity of {product}s available: \"))\n",
    "                if quantity >= 0:\n",
    "                    inventory[product] = quantity\n",
    "                    valid_input = True\n",
    "                else:\n",
    "                    print(\"Quantity cannot be negative. Please enter a valid quantity.\")\n",
    "            except ValueError:\n",
    "                print(\"Invalid input. Please enter a valid quantity.\")\n",
    "    return inventory\n",
    "```\n",
    "\n",
    "Let's enhance your code by implementing error handling to handle invalid inputs.\n",
    "\n",
    "Follow the steps below to complete the exercise:\n",
    "\n",
    "2. Modify the `calculate_total_price` function to include error handling.\n",
    "   - If the user enters an invalid price (e.g., a negative value or a non-numeric value), display an error message and ask them to re-enter the price for that product.\n",
    "   - Use a try-except block to handle the error and continue prompting the user until a valid price is entered.\n",
    "\n",
    "3. Modify the `get_customer_orders` function to include error handling.\n",
    "   - If the user enters an invalid number of orders (e.g., a negative value or a non-numeric value), display an error message and ask them to re-enter the number of orders.\n",
    "   - If the user enters an invalid product name (e.g., a product name that is not in the inventory), or that doesn't have stock available, display an error message and ask them to re-enter the product name. *Hint: you will need to pass inventory as a parameter*\n",
    "   - Use a try-except block to handle the error and continue prompting the user until a valid product name is entered.\n",
    "\n",
    "4. Test your code by running the program and deliberately entering invalid quantities and product names. Make sure the error handling mechanism works as expected.\n"
   ]
  },
  {
   "cell_type": "code",
   "execution_count": 54,
   "id": "751ede31-cf7f-4235-9b3f-f19ff3b49013",
   "metadata": {},
   "outputs": [],
   "source": [
    "# defining variables & more\n",
    "products = [\"t-shirt\",\"mug\",\"hat\",\"book\",\"keychain\"]\n",
    "\n",
    "# commented out because it makes more sense to define these variable later on in the code, see code block 3 & 5\n",
    "# customer_orders = set()\n",
    "# inventory = {}"
   ]
  },
  {
   "cell_type": "code",
   "execution_count": 55,
   "id": "6421e45b-dd77-4365-baec-da09cb4a208d",
   "metadata": {},
   "outputs": [],
   "source": [
    "def initialize_inventory(products):\n",
    "    inventory = {}\n",
    "    for prod in products:\n",
    "        input_not_valid = True\n",
    "        while input_not_valid:\n",
    "            user_input = input(f\"Please insert the current inventory for {prod}\")\n",
    "            try:\n",
    "                ncheck = int(user_input)\n",
    "                if ncheck < 0:\n",
    "                    raise ValueError\n",
    "                inventory[prod] = ncheck\n",
    "                input_not_valid = False\n",
    "            except ValueError:\n",
    "                print(\"Invalid input, please input a whole number >= 0\")\n",
    "    return inventory\n",
    "\n",
    "# inventory was added as a local variable in order to ensure it doesn't retain values from previous calls "
   ]
  },
  {
   "cell_type": "code",
   "execution_count": 56,
   "id": "0c7c8664-63a9-406f-a9ef-b0af84067866",
   "metadata": {},
   "outputs": [
    {
     "name": "stdin",
     "output_type": "stream",
     "text": [
      "Please insert the current inventory for t-shirt 1\n",
      "Please insert the current inventory for mug 9\n",
      "Please insert the current inventory for hat 8\n",
      "Please insert the current inventory for book 7\n",
      "Please insert the current inventory for keychain 0\n"
     ]
    }
   ],
   "source": [
    "# checking that the initialize_inventory function works\n",
    "#(removed the variable inventory from the first cell block and defined it below in order to have it defined somewhere)\n",
    "inventory = initialize_inventory(products)"
   ]
  },
  {
   "cell_type": "code",
   "execution_count": 57,
   "id": "93c6636e-0ad3-4ec6-bd4c-12dd679069f8",
   "metadata": {},
   "outputs": [],
   "source": [
    "#cust_orders was added as a local variable in order to ensure it doesn't retain values from previous calls \n",
    "#(removed the variable customer_orders from the first cell and defined it below in order to have it defined somewhere)\n",
    "\n",
    "def get_customer_orders(inventory):\n",
    "    invalid_input = True\n",
    "    while invalid_input:\n",
    "        prod_order = input(\"How many products do you want to order?\")\n",
    "        try:\n",
    "            intcheck = int(prod_order)\n",
    "            \n",
    "            if intcheck < 0:\n",
    "                raise ValueError\n",
    "            invalid_input = False\n",
    "        except ValueError:\n",
    "            print(\"Input must be a whole number >= 0\")\n",
    "\n",
    "    cust_orders = set()\n",
    " \n",
    "    for i in range(intcheck):\n",
    "        input_invalid = True\n",
    "        while input_invalid:\n",
    "            item = input(\"Which items would you like to order?\").lower()\n",
    "            if item in inventory.keys() and inventory[item] >0:\n",
    "                cust_orders.add(item)\n",
    "                input_invalid = False\n",
    "            else:\n",
    "                print(\"Invalid input. Please enter valid product name\")\n",
    "    print(\"Order complete, thank you\")\n",
    "    return cust_orders"
   ]
  },
  {
   "cell_type": "code",
   "execution_count": 58,
   "id": "ad140c5f-30e4-49d0-a81e-5358d909baf4",
   "metadata": {},
   "outputs": [
    {
     "name": "stdin",
     "output_type": "stream",
     "text": [
      "How many products do you want to order? keychain\n"
     ]
    },
    {
     "name": "stdout",
     "output_type": "stream",
     "text": [
      "Input must be a whole number >= 0\n"
     ]
    },
    {
     "name": "stdin",
     "output_type": "stream",
     "text": [
      "How many products do you want to order? 2\n",
      "Which items would you like to order? keychain\n"
     ]
    },
    {
     "name": "stdout",
     "output_type": "stream",
     "text": [
      "Invalid input. Please enter valid product name\n"
     ]
    },
    {
     "name": "stdin",
     "output_type": "stream",
     "text": [
      "Which items would you like to order? t-shirt\n",
      "Which items would you like to order? book\n"
     ]
    },
    {
     "name": "stdout",
     "output_type": "stream",
     "text": [
      "Order complete, thank you\n"
     ]
    }
   ],
   "source": [
    "# checking that the get_customer_orders function works & defining the customer_orders for the first time\n",
    "# as before there were no customer orders\n",
    "\n",
    "customer_orders = get_customer_orders(inventory) "
   ]
  },
  {
   "cell_type": "code",
   "execution_count": 59,
   "id": "4ef863b8-71b0-45e3-a56c-de978c63c6f4",
   "metadata": {},
   "outputs": [
    {
     "name": "stdout",
     "output_type": "stream",
     "text": [
      "{'t-shirt', 'book'}\n"
     ]
    }
   ],
   "source": [
    "print(customer_orders)"
   ]
  },
  {
   "cell_type": "code",
   "execution_count": 60,
   "id": "6faa0714-ab75-4776-9167-528e5160dc55",
   "metadata": {},
   "outputs": [],
   "source": [
    "def update_inventory(inventory, customer_orders):\n",
    "    inventory = {prod:(val -1 if prod in customer_orders else val) for prod, val in inventory.items()}\n",
    "    inventory = {prod:val for prod, val in inventory.items() if val != 0}\n",
    "    return inventory\n",
    "\n",
    "# the second listed comphrehension is to take out any inventory that is 0"
   ]
  },
  {
   "cell_type": "code",
   "execution_count": 61,
   "id": "3bf7a7bd-50dd-4ad1-b112-49f824e63ff9",
   "metadata": {},
   "outputs": [],
   "source": [
    "# checking that the update_inventory function works & also calling it so the other functions will work\n",
    "\n",
    "inventory = update_inventory(inventory, customer_orders)"
   ]
  },
  {
   "cell_type": "code",
   "execution_count": 62,
   "id": "9879f369-91e8-4617-aec4-7dd541ceceda",
   "metadata": {},
   "outputs": [
    {
     "name": "stdout",
     "output_type": "stream",
     "text": [
      "{'mug': 9, 'hat': 8, 'book': 6}\n"
     ]
    }
   ],
   "source": [
    "print(inventory)"
   ]
  },
  {
   "cell_type": "code",
   "execution_count": 63,
   "id": "327dbf05-5f78-47ee-afa3-93fcc517e7be",
   "metadata": {},
   "outputs": [],
   "source": [
    "def calculate_total_price(customer_orders):\n",
    "    prices = {}\n",
    "    for article in customer_orders:\n",
    "        input_invalid = True\n",
    "        while input_invalid:\n",
    "            price = input(f\"Enter monetary price (eg. 12.50)for {article}\")\n",
    "            try:\n",
    "                float_check = float(price)\n",
    "                prices[article] = float_check\n",
    "                input_invalid = False\n",
    "            except ValueError:\n",
    "                print(\"Invalid input, please enter a valid number for price\")\n",
    "    total_prices = sum(prices.values())\n",
    "    return total_prices"
   ]
  },
  {
   "cell_type": "code",
   "execution_count": 64,
   "id": "92e1e5c1-0a36-41e8-b3e4-d7b41e7cb413",
   "metadata": {},
   "outputs": [
    {
     "name": "stdin",
     "output_type": "stream",
     "text": [
      "Enter monetary price (eg. 12.50)for t-shirt 12.2\n",
      "Enter monetary price (eg. 12.50)for book 3\n"
     ]
    },
    {
     "name": "stdout",
     "output_type": "stream",
     "text": [
      "Your total order is: 15.2 $\n"
     ]
    }
   ],
   "source": [
    "total_price = calculate_total_price(customer_orders)\n",
    "print(\"Your total order is:\",total_price,\"$\")"
   ]
  },
  {
   "cell_type": "code",
   "execution_count": 65,
   "id": "f13b9928-983a-4774-b048-3841e14f1d53",
   "metadata": {},
   "outputs": [],
   "source": [
    "# defining a function to calculate order statistics\n",
    "\n",
    "def calculate_order_statistics(customer_orders,inventory):\n",
    "    total_order = len(customer_orders)\n",
    "    total_ratio = total_order/sum(inventory.values())\n",
    "    return total_order, total_ratio"
   ]
  },
  {
   "cell_type": "code",
   "execution_count": 66,
   "id": "153819b2-9c23-4bfe-9ab9-34577c352d04",
   "metadata": {},
   "outputs": [
    {
     "data": {
      "text/plain": [
       "(2, 0.08695652173913043)"
      ]
     },
     "execution_count": 66,
     "metadata": {},
     "output_type": "execute_result"
    }
   ],
   "source": [
    "# checking that the calculate_order_statistics function works\n",
    "\n",
    "calculate_order_statistics(customer_orders, inventory)"
   ]
  },
  {
   "cell_type": "code",
   "execution_count": 67,
   "id": "6b4f0d6a-a5be-4b67-b90d-88930d222047",
   "metadata": {},
   "outputs": [],
   "source": [
    "# if you want to make the total ratio look like a percentage\n",
    "\n",
    "def percentify_order_stats(customer_orders, inventory):\n",
    "    a, b = calculate_order_statistics(customer_orders, inventory)\n",
    "    return (a, f\"{int(b*100)}%\")\n",
    "\n",
    "# breakdown of what is happening here -> when working with percentages, \n",
    "# Since we know that calculate_order_statistics returns the two parameters customer_order & inventory,\n",
    "# we can define 2 dummy variables, a & b, to take on the function parameter output, this way can play with how to return the outcome...\n",
    "# ... to be more visual pleasing & understandable -> to explain this part: f\"{int(b*100)}%\" step by step\n",
    "# we are using a formatting string so that it can be populated by the funcion values, otherwise a normal string would 'hard code'\n",
    "#    and we have to use a string because you cannot add an integer and a string, so \"%\", together\n",
    "# we use int() because the total_ratio parameter is a float"
   ]
  },
  {
   "cell_type": "code",
   "execution_count": 68,
   "id": "52cd1142-6774-4479-9bda-a2645ed0e42a",
   "metadata": {},
   "outputs": [
    {
     "data": {
      "text/plain": [
       "(2, '8%')"
      ]
     },
     "execution_count": 68,
     "metadata": {},
     "output_type": "execute_result"
    }
   ],
   "source": [
    "# checking that the percentify_order_stats function works\n",
    "\n",
    "percentify_order_stats(customer_orders, inventory)"
   ]
  },
  {
   "cell_type": "code",
   "execution_count": 69,
   "id": "f2d77aad-3bae-41b5-ae08-e324a294f051",
   "metadata": {},
   "outputs": [],
   "source": [
    "# defining a function to print order statistics\n",
    "\n",
    "def print_order_statistics(customer_orders, inventory):\n",
    "    var1, var2 = percentify_order_stats(customer_orders, inventory)\n",
    "    print(\"Order Statistics:\\nTotal Products Ordered:\",var1,\"\\nPercentage of Products Ordered:\",var2)\n",
    "\n",
    "#same as code block above, var1 & var2 are just placeholders for the two-variabled-output that comes from the print_order_statistics func."
   ]
  },
  {
   "cell_type": "code",
   "execution_count": 70,
   "id": "691943f3-1bf4-4b50-8d81-dfed835ef108",
   "metadata": {},
   "outputs": [
    {
     "name": "stdout",
     "output_type": "stream",
     "text": [
      "Order Statistics:\n",
      "Total Products Ordered: 2 \n",
      "Percentage of Products Ordered: 8%\n"
     ]
    }
   ],
   "source": [
    "# checking that the print_order_statistics function works\n",
    "\n",
    "print_order_statistics(customer_orders, inventory)"
   ]
  },
  {
   "cell_type": "code",
   "execution_count": 71,
   "id": "8507a384-1139-4ee4-82d2-5d71d2ac33fe",
   "metadata": {},
   "outputs": [],
   "source": [
    "def print_updated_inventory(inventory):\n",
    "    print_update = [f\"The quantity of {product} left available is {inventory[product]}\" for product in inventory.keys()]\n",
    "    return print_update\n",
    "    \n",
    "    # previous code\n",
    "    # for quant in products:\n",
    "    #     print(f\"The quantity of {quant} left available is {inventory[quant]}\\n\")\n",
    "    # the comprehension takes out the quant dummy variable cause the output is the formatted string\n",
    "    #...and 'product' becomes a dummy variable for the dict keys (-> for product in inventory.keys()) & is used in the f string\n",
    "    # don't confuse 'product' for the global variable 'products' and also why 'products' is not a parameter"
   ]
  },
  {
   "cell_type": "code",
   "execution_count": 72,
   "id": "364f8cf4-f56b-43b6-b3f8-ede405165f78",
   "metadata": {},
   "outputs": [
    {
     "data": {
      "text/plain": [
       "['The quantity of mug left available is 9',\n",
       " 'The quantity of hat left available is 8',\n",
       " 'The quantity of book left available is 6']"
      ]
     },
     "execution_count": 72,
     "metadata": {},
     "output_type": "execute_result"
    }
   ],
   "source": [
    "# checking that the print_order_statistics function works\n",
    "\n",
    "print_updated_inventory(inventory)"
   ]
  },
  {
   "cell_type": "code",
   "execution_count": null,
   "id": "f9e2f43c-d963-4260-ad7e-2c162b02214f",
   "metadata": {},
   "outputs": [],
   "source": []
  }
 ],
 "metadata": {
  "kernelspec": {
   "display_name": "Python 3 (ipykernel)",
   "language": "python",
   "name": "python3"
  },
  "language_info": {
   "codemirror_mode": {
    "name": "ipython",
    "version": 3
   },
   "file_extension": ".py",
   "mimetype": "text/x-python",
   "name": "python",
   "nbconvert_exporter": "python",
   "pygments_lexer": "ipython3",
   "version": "3.11.9"
  }
 },
 "nbformat": 4,
 "nbformat_minor": 5
}
